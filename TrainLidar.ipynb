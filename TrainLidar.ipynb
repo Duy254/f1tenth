{
 "cells": [
  {
   "cell_type": "code",
   "execution_count": null,
   "metadata": {
    "collapsed": false
   },
   "outputs": [],
   "source": [
    "from __future__ import print_function\n",
    "import roslib\n",
    "import rosbag\n",
    "import rospy\n",
    "import cv2\n",
    "import os\n",
    "import numpy as np\n",
    "from sensor_msgs.msg import Image\n",
    "from cv_bridge import CvBridge, CvBridgeError\n",
    "from glob import glob\n",
    "from tqdm import tqdm\n",
    "from sklearn.model_selection import train_test_split\n",
    "from livelossplot import PlotLossesKeras\n",
    "from keras.models import Sequential\n",
    "from keras.layers import Dense, Dropout\n",
    "import keras\n",
    "from matplotlib import pyplot as plt\n",
    "%matplotlib inline"
   ]
  },
  {
   "cell_type": "code",
   "execution_count": null,
   "metadata": {
    "collapsed": false
   },
   "outputs": [],
   "source": [
    "# for bag in glob(\"datasets/dataset*/*.bag\"):\n",
    "#     bag_name = bag.split('/')[1].split(\".\")[0]\n",
    "#     with rosbag.Bag(bag, 'r') as inbag:\n",
    "#         for topic, msg, t in tqdm(inbag.read_messages()):\n",
    "#             if topic == '/scan':\n",
    "#                 print(msg)\n",
    "#                 break"
   ]
  },
  {
   "cell_type": "code",
   "execution_count": null,
   "metadata": {
    "collapsed": false
   },
   "outputs": [],
   "source": [
    "scans = []\n",
    "steering_in = []\n",
    "steering_out = []\n",
    "throttle_in = []\n",
    "throttle_out = []\n",
    "\n",
    "last_st_in = None\n",
    "last_st_out = None\n",
    "last_th_in = None\n",
    "last_th_out = None\n",
    "\n",
    "for bag in glob(\"datasets/dataset*/*.bag\"):\n",
    "    bag_name = bag.split('/')[1].split(\".\")[0]\n",
    "    with rosbag.Bag(bag, 'r') as inbag:\n",
    "        for topic, msg, t in tqdm(inbag.read_messages()):\n",
    "            if topic == '/scan':\n",
    "                if last_st_in is not None and last_st_out is not None:\n",
    "                    steering_in.append(last_st_in)\n",
    "                    throttle_in.append(last_th_in)\n",
    "                    steering_out.append(last_st_out)\n",
    "                    throttle_out.append(last_th_out)\n",
    "                    scans.append(np.array(msg.ranges))\n",
    "            if topic == '/mavros/rc/in':\n",
    "                last_st_in = msg.channels[0]\n",
    "                last_th_in = msg.channels[2]\n",
    "            if topic == '/mavros/rc/out':\n",
    "                last_st_out = msg.channels[0]\n",
    "                last_th_out = msg.channels[2]\n"
   ]
  },
  {
   "cell_type": "code",
   "execution_count": null,
   "metadata": {
    "collapsed": true
   },
   "outputs": [],
   "source": [
    "scans = np.array(scans)\n",
    "steering_in = np.array(steering_in)\n",
    "steering_out = np.array(steering_out)\n",
    "throttle_in = np.array(throttle_in)\n",
    "throttle_out = np.array(throttle_out)"
   ]
  },
  {
   "cell_type": "code",
   "execution_count": null,
   "metadata": {
    "collapsed": false
   },
   "outputs": [],
   "source": [
    "print(\"Scans shape:\", scans.shape)\n",
    "print(\"Steering in/out shape: %s/%s\" % (steering_in.shape, steering_out.shape))\n",
    "print(\"Throttle in/out shape: %s/%s\" % (throttle_in.shape, throttle_out.shape))\n"
   ]
  },
  {
   "cell_type": "code",
   "execution_count": null,
   "metadata": {
    "collapsed": false
   },
   "outputs": [],
   "source": [
    "np.arange(-2.35619449615, 2.35619449615, 0.00436332309619).shape"
   ]
  },
  {
   "cell_type": "code",
   "execution_count": null,
   "metadata": {
    "collapsed": false
   },
   "outputs": [],
   "source": [
    "fig = plt.figure(figsize=(20,20))\n",
    "ax = fig.add_subplot(1, 1, 1, polar=True)\n",
    "\n",
    "r = np.arange(-2.35619449615, 2.35619449615, 0.00436332309619)\n",
    "\n",
    "ax.plot(r,scans[0])\n",
    "print(steering_in[0])\n",
    "\n",
    "plt.show();"
   ]
  },
  {
   "cell_type": "code",
   "execution_count": null,
   "metadata": {
    "collapsed": false
   },
   "outputs": [],
   "source": [
    "fig = plt.figure(figsize=(20,20))\n",
    "ax = fig.add_subplot(1, 1, 1)\n",
    "\n",
    "ax.plot(steering_in-steering_out)\n",
    "\n",
    "plt.show();"
   ]
  },
  {
   "cell_type": "code",
   "execution_count": null,
   "metadata": {
    "collapsed": true
   },
   "outputs": [],
   "source": [
    "def processAngle(angle):\n",
    "    return (angle - 800.0) / (1800.0-800.0) - 0.5\n",
    "\n",
    "def originalAngle(angle):\n",
    "    return (angle + 0.5) * (1800.0-800.0) + 800.0\n",
    "\n",
    "def processScan(scan):\n",
    "    return scan / 65.5\n",
    "\n",
    "def originalScan(scan):\n",
    "    return scan * 65.5\n"
   ]
  },
  {
   "cell_type": "code",
   "execution_count": null,
   "metadata": {
    "collapsed": false
   },
   "outputs": [],
   "source": [
    "processed_angles = processAngle(steering_in)\n",
    "processed_scanes = processScan(scans)\n",
    "\n",
    "print(np.min(scans))\n",
    "print(np.max(scans))\n",
    "\n",
    "plt.plot(processed_angles)\n",
    "plt.show();"
   ]
  },
  {
   "cell_type": "code",
   "execution_count": null,
   "metadata": {
    "collapsed": false
   },
   "outputs": [],
   "source": [
    "fig = plt.figure(figsize=(20,20))\n",
    "ax = fig.add_subplot(1, 1, 1, polar=True)\n",
    "\n",
    "r = np.arange(-2.35619449615, 2.35619449615, 0.00436332309619)\n",
    "\n",
    "ax.plot(r,processed_scanes[0])\n",
    "\n",
    "plt.show();"
   ]
  },
  {
   "cell_type": "code",
   "execution_count": null,
   "metadata": {
    "collapsed": true
   },
   "outputs": [],
   "source": [
    "X_train, X_test, y_train, y_test = train_test_split(processed_scanes, processed_angles, test_size=0.1, random_state=42)"
   ]
  },
  {
   "cell_type": "code",
   "execution_count": null,
   "metadata": {
    "collapsed": false
   },
   "outputs": [],
   "source": [
    "print(\"Train X,y:\",X_train.shape, y_train.shape)\n",
    "print(\"Test  X,y:\",X_test.shape, y_test.shape)"
   ]
  },
  {
   "cell_type": "code",
   "execution_count": null,
   "metadata": {
    "collapsed": false
   },
   "outputs": [],
   "source": [
    "# model = Sequential()\n",
    "# model.add(Dense(512, input_dim=X_train.shape[1], activation='relu'))\n",
    "# model.add(Dense(1))\n",
    "# model.compile(loss='mse', optimizer='adam', metrics=['mape'])\n",
    "# model.fit(X_train, y_train, batch_size=1024, epochs=100,\n",
    "#           callbacks=[keras.callbacks.TensorBoard(log_dir='./logs/512_not_uniform_1'),PlotLossesKeras()],\n",
    "#           validation_split=0.1, shuffle=True)"
   ]
  },
  {
   "cell_type": "code",
   "execution_count": null,
   "metadata": {
    "collapsed": false
   },
   "outputs": [],
   "source": [
    "# model = Sequential()\n",
    "# model.add(Dense(512, input_dim=X_train.shape[1], activation='relu'))\n",
    "# model.add(Dense(512, activation='relu'))\n",
    "# model.add(Dense(1))\n",
    "# model.compile(loss='mse', optimizer='adam', metrics=['mape'])\n",
    "# model.fit(X_train, y_train, batch_size=1024, epochs=100,\n",
    "#           callbacks=[keras.callbacks.TensorBoard(log_dir='./logs/512_512_not_uniform_1'), PlotLossesKeras()],\n",
    "#           validation_split=0.1, shuffle=True)"
   ]
  },
  {
   "cell_type": "code",
   "execution_count": null,
   "metadata": {
    "collapsed": false
   },
   "outputs": [],
   "source": [
    "# model = Sequential()\n",
    "# model.add(Dense(512, input_dim=X_train.shape[1], init='uniform', activation='relu'))\n",
    "# model.add(Dense(512, init='uniform', activation='relu'))\n",
    "# model.add(Dense(1, init='uniform'))\n",
    "# model.compile(loss='mse', optimizer='adam', metrics=['mape'])\n",
    "# model.fit(X_train, y_train, batch_size=1024, epochs=100,\n",
    "#           callbacks=[keras.callbacks.TensorBoard(log_dir='./logs/512_512_1'), PlotLossesKeras()],\n",
    "#           validation_split=0.1, shuffle=True)"
   ]
  },
  {
   "cell_type": "code",
   "execution_count": null,
   "metadata": {
    "collapsed": false
   },
   "outputs": [],
   "source": [
    "# model = Sequential()\n",
    "# model.add(Dense(512, input_dim=X_train.shape[1], init='uniform', activation='relu'))\n",
    "# model.add(Dropout(0.5))\n",
    "# model.add(Dense(512, init='uniform', activation='relu'))\n",
    "# model.add(Dense(1, init='uniform'))\n",
    "# model.compile(loss='mse', optimizer='adam', metrics=['mape'])\n",
    "# model.fit(X_train, y_train, batch_size=1024, epochs=100, \n",
    "#           callbacks=[keras.callbacks.TensorBoard(log_dir='./logs/512_0.5_512_1'), PlotLossesKeras()], \n",
    "#           validation_split=0.1, shuffle=True)"
   ]
  },
  {
   "cell_type": "code",
   "execution_count": null,
   "metadata": {
    "collapsed": false
   },
   "outputs": [],
   "source": [
    "# model = Sequential()\n",
    "# model.add(Dense(512, input_dim=X_train.shape[1], init='uniform', activation='relu'))\n",
    "# model.add(Dropout(0.5))\n",
    "# model.add(Dense(512, init='uniform', activation='relu'))\n",
    "# model.add(Dropout(0.5))\n",
    "# model.add(Dense(1, init='uniform'))\n",
    "# model.compile(loss='mse', optimizer='adam', metrics=['mape'])\n",
    "# model.fit(X_train, y_train, batch_size=1024, epochs=100,\n",
    "#           callbacks=[keras.callbacks.TensorBoard(log_dir='./logs/512_0.5_512_0.5_1'), PlotLossesKeras()],\n",
    "#           validation_split=0.1, shuffle=True)"
   ]
  },
  {
   "cell_type": "code",
   "execution_count": null,
   "metadata": {
    "collapsed": false
   },
   "outputs": [],
   "source": [
    "# model = Sequential()\n",
    "# model.add(Dense(512, input_dim=X_train.shape[1], init='uniform', activation='relu'))\n",
    "# model.add(Dropout(0.5))\n",
    "# model.add(Dense(512, init='uniform', activation='relu'))\n",
    "# model.add(Dropout(0.3))\n",
    "# model.add(Dense(512, init='uniform', activation='relu'))\n",
    "# model.add(Dense(1, init='uniform'))\n",
    "# model.compile(loss='mse', optimizer='adam', metrics=['mape'])\n",
    "# model.fit(X_train, y_train, batch_size=1024, epochs=100,\n",
    "#           callbacks=[keras.callbacks.TensorBoard(log_dir='./logs/512_0.5_512_0.3_512_1'), PlotLossesKeras()],\n",
    "#           validation_split=0.1, shuffle=True)"
   ]
  },
  {
   "cell_type": "code",
   "execution_count": null,
   "metadata": {
    "collapsed": false
   },
   "outputs": [],
   "source": [
    "# model = Sequential()\n",
    "# model.add(Dense(512, input_dim=X_train.shape[1], init='uniform', activation='relu'))\n",
    "# model.add(Dropout(0.5))\n",
    "# model.add(Dense(512, init='uniform', activation='relu'))\n",
    "# model.add(Dropout(0.3))\n",
    "# model.add(Dense(512, init='uniform', activation='relu'))\n",
    "# model.add(Dropout(0.3))\n",
    "# model.add(Dense(1, init='uniform'))\n",
    "# model.compile(loss='mse', optimizer='adam', metrics=['mape'])\n",
    "# model.fit(X_train, y_train, batch_size=1024, epochs=100,\n",
    "#           callbacks=[keras.callbacks.TensorBoard(log_dir='./logs/512_0.5_512_0.3_512_0.3_1'), PlotLossesKeras()],\n",
    "#           validation_split=0.1, shuffle=True)"
   ]
  },
  {
   "cell_type": "code",
   "execution_count": null,
   "metadata": {
    "collapsed": false
   },
   "outputs": [],
   "source": [
    "# model = Sequential()\n",
    "# model.add(Dense(128, input_dim=X_train.shape[1], activation='relu'))\n",
    "# model.add(Dropout(0.3))\n",
    "# model.add(Dense(128, activation='relu'))\n",
    "# model.add(Dropout(0.3))\n",
    "# model.add(Dense(128, activation='relu'))\n",
    "# model.add(Dropout(0.3))\n",
    "# model.add(Dense(128, activation='relu'))\n",
    "# model.add(Dropout(0.3))\n",
    "# model.add(Dense(128, activation='relu'))\n",
    "# model.add(Dropout(0.3))\n",
    "# model.add(Dense(128, activation='relu'))\n",
    "# model.add(Dropout(0.3))\n",
    "# model.add(Dense(128, activation='relu'))\n",
    "# model.add(Dropout(0.3))\n",
    "# model.add(Dense(128, activation='relu'))\n",
    "# model.add(Dropout(0.3))\n",
    "# model.add(Dense(1))\n",
    "# model.compile(loss='mse', optimizer='adam', metrics=['mape'])\n",
    "# model.fit(X_train, y_train, batch_size=1024, epochs=100,\n",
    "#           callbacks=[keras.callbacks.TensorBoard(log_dir='./logs/Mega_128_0.3_1'), PlotLossesKeras()],\n",
    "#           validation_split=0.1, shuffle=True)"
   ]
  },
  {
   "cell_type": "code",
   "execution_count": null,
   "metadata": {
    "collapsed": false
   },
   "outputs": [],
   "source": [
    "# model = Sequential()\n",
    "# model.add(Dense(128, input_dim=X_train.shape[1], init='uniform', activation='relu'))\n",
    "# model.add(Dropout(0.3))\n",
    "# model.add(Dense(128, init='uniform', activation='relu'))\n",
    "# model.add(Dropout(0.3))\n",
    "# model.add(Dense(128, init='uniform', activation='relu'))\n",
    "# model.add(Dropout(0.3))\n",
    "# model.add(Dense(128, init='uniform', activation='relu'))\n",
    "# model.add(Dropout(0.3))\n",
    "# model.add(Dense(128, init='uniform', activation='relu'))\n",
    "# model.add(Dropout(0.3))\n",
    "# model.add(Dense(128, init='uniform', activation='relu'))\n",
    "# model.add(Dropout(0.3))\n",
    "# model.add(Dense(128, init='uniform', activation='relu'))\n",
    "# model.add(Dropout(0.3))\n",
    "# model.add(Dense(128, init='uniform', activation='relu'))\n",
    "# model.add(Dropout(0.3))\n",
    "# model.add(Dense(1, init='uniform'))\n",
    "# model.compile(loss='mse', optimizer='adam', metrics=['mape'])\n",
    "# model.fit(X_train, y_train, batch_size=1024, epochs=100,\n",
    "#           callbacks=[keras.callbacks.TensorBoard(log_dir='./logs/Mega_128_0.3_uniform_1'),PlotLossesKeras()],\n",
    "#           validation_split=0.1, shuffle=True)"
   ]
  },
  {
   "cell_type": "code",
   "execution_count": null,
   "metadata": {
    "collapsed": false
   },
   "outputs": [],
   "source": [
    "# calculate predictions\n",
    "# predictions = model.predict(X_test)"
   ]
  },
  {
   "cell_type": "code",
   "execution_count": null,
   "metadata": {
    "collapsed": false
   },
   "outputs": [],
   "source": [
    "# fig = plt.figure(figsize=(20,10))\n",
    "# plt.plot(y_test, 'g', predictions,'r');"
   ]
  },
  {
   "cell_type": "code",
   "execution_count": null,
   "metadata": {
    "collapsed": false
   },
   "outputs": [],
   "source": [
    "# predictions = predictions.reshape(-1)\n",
    "# fig = plt.figure(figsize=(20,10))\n",
    "# plt.plot(predictions - y_test, 'b');"
   ]
  },
  {
   "cell_type": "code",
   "execution_count": null,
   "metadata": {
    "collapsed": false
   },
   "outputs": [],
   "source": [
    "print(X_train.shape)\n",
    "X_train2 = np.concatenate((X_train, X_train[:,::-1]))\n",
    "print(X_train2.shape)\n",
    "y_train2 = np.concatenate((y_train, 0.11 - y_train))"
   ]
  },
  {
   "cell_type": "code",
   "execution_count": null,
   "metadata": {
    "collapsed": false
   },
   "outputs": [],
   "source": [
    "plt.plot(y_train2);"
   ]
  },
  {
   "cell_type": "code",
   "execution_count": null,
   "metadata": {
    "collapsed": false
   },
   "outputs": [],
   "source": [
    "# model = Sequential()\n",
    "# model.add(Dense(128, input_dim=X_train2.shape[1], init='uniform', activation='relu'))\n",
    "# model.add(Dropout(0.3))\n",
    "# model.add(Dense(128, init='uniform', activation='relu'))\n",
    "# model.add(Dropout(0.3))\n",
    "# model.add(Dense(128, init='uniform', activation='relu'))\n",
    "# model.add(Dropout(0.3))\n",
    "# model.add(Dense(128, init='uniform', activation='relu'))\n",
    "# model.add(Dropout(0.3))\n",
    "# model.add(Dense(128, init='uniform', activation='relu'))\n",
    "# model.add(Dropout(0.3))\n",
    "# model.add(Dense(128, init='uniform', activation='relu'))\n",
    "# model.add(Dropout(0.3))\n",
    "# model.add(Dense(128, init='uniform', activation='relu'))\n",
    "# model.add(Dropout(0.3))\n",
    "# model.add(Dense(128, init='uniform', activation='relu'))\n",
    "# model.add(Dropout(0.3))\n",
    "# model.add(Dense(1, init='uniform'))\n",
    "# model.compile(loss='mse', optimizer='adam', metrics=['mape'])\n",
    "# model.fit(X_train2, y_train2, batch_size=1024, epochs=100,\n",
    "#           callbacks=[keras.callbacks.TensorBoard(log_dir='./logs/Mega_128_0.3_uniform_1_train2_0.1'),PlotLossesKeras()],\n",
    "#           validation_split=0.1, shuffle=True)"
   ]
  },
  {
   "cell_type": "code",
   "execution_count": null,
   "metadata": {
    "collapsed": false
   },
   "outputs": [],
   "source": [
    "# # calculate predictions\n",
    "# predictions = model.predict(X_test)\n",
    "\n",
    "# fig = plt.figure(figsize=(20,10))\n",
    "# plt.plot(y_test, 'g', predictions,'r');"
   ]
  },
  {
   "cell_type": "code",
   "execution_count": null,
   "metadata": {
    "collapsed": false
   },
   "outputs": [],
   "source": [
    "# predictions = predictions.reshape(-1)\n",
    "# fig = plt.figure(figsize=(20,10))\n",
    "# plt.plot(predictions - y_test, 'b');"
   ]
  },
  {
   "cell_type": "code",
   "execution_count": null,
   "metadata": {
    "collapsed": false
   },
   "outputs": [],
   "source": [
    "model = Sequential()\n",
    "model.add(Dense(512, input_dim=X_train2.shape[1], init='uniform', activation='relu'))\n",
    "model.add(Dense(512, init='uniform', activation='relu'))\n",
    "model.add(Dense(1, init='uniform'))\n",
    "model.compile(loss='mse', optimizer='adam', metrics=['mape'])\n",
    "model.fit(X_train2, y_train2, batch_size=1024, epochs=1000,\n",
    "          callbacks=[keras.callbacks.TensorBoard(log_dir='./logs/X2_512_512_1'), keras.callbacks.EarlyStopping(monitor='val_mape', patience=50), PlotLossesKeras()],\n",
    "          validation_split=0.1, shuffle=True)"
   ]
  },
  {
   "cell_type": "code",
   "execution_count": null,
   "metadata": {
    "collapsed": false
   },
   "outputs": [],
   "source": [
    "model = Sequential()\n",
    "model.add(Dense(256, input_dim=X_train2.shape[1], init='uniform', activation='relu'))\n",
    "model.add(Dense(256, init='uniform', activation='relu'))\n",
    "model.add(Dense(256, init='uniform', activation='relu'))\n",
    "model.add(Dense(1, init='uniform'))\n",
    "model.compile(loss='mse', optimizer='adam', metrics=['mape'])\n",
    "model.fit(X_train2, y_train2, batch_size=1024, epochs=1000,\n",
    "          callbacks=[keras.callbacks.TensorBoard(log_dir='./logs/X2_256_256_256_1'), keras.callbacks.EarlyStopping(monitor='val_mape', patience=50), PlotLossesKeras()],\n",
    "          validation_split=0.1, shuffle=True)"
   ]
  },
  {
   "cell_type": "code",
   "execution_count": null,
   "metadata": {
    "collapsed": false
   },
   "outputs": [],
   "source": [
    "model = Sequential()\n",
    "model.add(Dense(512, input_dim=X_train2.shape[1], init='uniform', activation='elu'))\n",
    "model.add(Dense(512, init='uniform', activation='elu'))\n",
    "model.add(Dense(1, init='uniform'))\n",
    "model.compile(loss='mse', optimizer='adam', metrics=['mape'])\n",
    "model.fit(X_train2, y_train2, batch_size=1024, epochs=1000,\n",
    "          callbacks=[keras.callbacks.TensorBoard(log_dir='./logs/X2_elu_512_512_1'), \n",
    "                     keras.callbacks.EarlyStopping(monitor='val_mape', patience=50), PlotLossesKeras()],\n",
    "          validation_split=0.1, shuffle=True)"
   ]
  },
  {
   "cell_type": "code",
   "execution_count": null,
   "metadata": {
    "collapsed": false
   },
   "outputs": [],
   "source": [
    "model = Sequential()\n",
    "model.add(Dense(512, input_dim=X_train2.shape[1], init='uniform', activation='elu'))\n",
    "model.add(Dense(512, init='uniform', activation='elu'))\n",
    "model.add(Dense(512, init='uniform', activation='elu'))\n",
    "model.add(Dense(1, init='uniform'))\n",
    "model.compile(loss='mse', optimizer='adam', metrics=['mape'])\n",
    "model.fit(X_train2, y_train2, batch_size=1024, epochs=1000,\n",
    "          callbacks=[keras.callbacks.TensorBoard(log_dir='./logs/X2_elu_512_512_512_1'),\n",
    "                     keras.callbacks.EarlyStopping(monitor='val_mape', patience=50), PlotLossesKeras()],\n",
    "          validation_split=0.1, shuffle=True)"
   ]
  },
  {
   "cell_type": "code",
   "execution_count": null,
   "metadata": {
    "collapsed": false
   },
   "outputs": [],
   "source": [
    "model = Sequential()\n",
    "model.add(Dense(512, input_dim=X_train2.shape[1], init='uniform', activation='relu'))\n",
    "model.add(Dense(512, init='uniform', activation='relu'))\n",
    "model.add(Dense(512, init='uniform', activation='relu'))\n",
    "model.add(Dense(1, init='uniform'))\n",
    "model.compile(loss='mse', optimizer='adam', metrics=['mape'])\n",
    "model.fit(X_train2, y_train2, batch_size=1024, epochs=1000,\n",
    "          callbacks=[keras.callbacks.TensorBoard(log_dir='./logs/X2_512_512_512_1'),\n",
    "                     keras.callbacks.EarlyStopping(monitor='val_mape', patience=50), PlotLossesKeras()],\n",
    "          validation_split=0.1, shuffle=True)"
   ]
  },
  {
   "cell_type": "code",
   "execution_count": null,
   "metadata": {
    "collapsed": false
   },
   "outputs": [],
   "source": [
    "model = Sequential()\n",
    "model.add(Dense(512, input_dim=X_train2.shape[1], init='uniform', activation='relu'))\n",
    "model.add(Dense(512, init='uniform', activation='relu'))\n",
    "model.add(Dense(512, init='uniform', activation='relu'))\n",
    "model.add(Dropout(0.1))\n",
    "model.add(Dense(1, init='uniform'))\n",
    "model.compile(loss='mse', optimizer='adam', metrics=['mape'])\n",
    "model.fit(X_train2, y_train2, batch_size=1024, epochs=1000,\n",
    "          callbacks=[keras.callbacks.TensorBoard(log_dir='./logs/X2_512_512_512_D0.1_1'),\n",
    "                     keras.callbacks.EarlyStopping(monitor='val_mape', patience=50), PlotLossesKeras()],\n",
    "          validation_split=0.1, shuffle=True)"
   ]
  },
  {
   "cell_type": "code",
   "execution_count": null,
   "metadata": {
    "collapsed": false
   },
   "outputs": [],
   "source": [
    "model = Sequential()\n",
    "model.add(Dense(512, input_dim=X_train2.shape[1], init='uniform', activation='relu'))\n",
    "model.add(Dense(512, init='uniform', activation='relu'))\n",
    "model.add(Dense(512, init='uniform', activation='relu'))\n",
    "model.add(Dropout(0.2))\n",
    "model.add(Dense(1, init='uniform'))\n",
    "model.compile(loss='mse', optimizer='adam', metrics=['mape'])\n",
    "model.fit(X_train2, y_train2, batch_size=1024, epochs=1000,\n",
    "          callbacks=[keras.callbacks.TensorBoard(log_dir='./logs/X2_512_512_512_D0.2_1'),\n",
    "                     keras.callbacks.EarlyStopping(monitor='val_mape', patience=50), PlotLossesKeras()],\n",
    "          validation_split=0.1, shuffle=True)"
   ]
  },
  {
   "cell_type": "code",
   "execution_count": null,
   "metadata": {
    "collapsed": false
   },
   "outputs": [],
   "source": [
    "model = Sequential()\n",
    "model.add(Dense(512, input_dim=X_train2.shape[1], init='uniform', activation='relu'))\n",
    "model.add(Dense(512, init='uniform', activation='relu'))\n",
    "model.add(Dense(512, init='uniform', activation='relu'))\n",
    "model.add(Dropout(0.3))\n",
    "model.add(Dense(1, init='uniform'))\n",
    "model.compile(loss='mse', optimizer='adam', metrics=['mape'])\n",
    "model.fit(X_train2, y_train2, batch_size=1024, epochs=1000,\n",
    "          callbacks=[keras.callbacks.TensorBoard(log_dir='./logs/X2_512_512_512_D0.3_1'),\n",
    "                     keras.callbacks.EarlyStopping(monitor='val_mape', patience=50), PlotLossesKeras()],\n",
    "          validation_split=0.1, shuffle=True)"
   ]
  },
  {
   "cell_type": "code",
   "execution_count": null,
   "metadata": {
    "collapsed": true
   },
   "outputs": [],
   "source": [
    "model = Sequential()\n",
    "model.add(Dense(512, input_dim=X_train2.shape[1], init='uniform', activation='relu'))\n",
    "model.add(Dense(512, init='uniform', activation='relu'))\n",
    "model.add(Dense(512, init='uniform', activation='relu'))\n",
    "model.add(Dropout(0.2))\n",
    "model.add(Dense(1, init='uniform'))\n",
    "model.compile(loss='mse', optimizer='adam', metrics=['mape'])\n",
    "model.fit(X_train2, y_train2, batch_size=2048, epochs=100,\n",
    "          callbacks=[keras.callbacks.TensorBoard(log_dir='./logs/X2_512_512_512_D0.2_1_batch_2048'),\n",
    "                     keras.callbacks.EarlyStopping(monitor='val_mape', patience=50), PlotLossesKeras()],\n",
    "          validation_split=0.1, shuffle=True)"
   ]
  },
  {
   "cell_type": "code",
   "execution_count": null,
   "metadata": {
    "collapsed": true
   },
   "outputs": [],
   "source": [
    "model = Sequential()\n",
    "model.add(Dense(512, input_dim=X_train2.shape[1], init='uniform', activation='relu'))\n",
    "model.add(Dense(512, init='uniform', activation='relu'))\n",
    "model.add(Dense(512, init='uniform', activation='relu'))\n",
    "model.add(Dropout(0.2))\n",
    "model.add(Dense(1, init='uniform'))\n",
    "model.compile(loss='mse', optimizer='adam', metrics=['mape'])\n",
    "model.fit(X_train2, y_train2, batch_size=128, epochs=100,\n",
    "          callbacks=[keras.callbacks.TensorBoard(log_dir='./logs/X2_512_512_512_D0.2_1_batch_128'),\n",
    "                     keras.callbacks.EarlyStopping(monitor='val_mape', patience=50), PlotLossesKeras()],\n",
    "          validation_split=0.1, shuffle=True)"
   ]
  },
  {
   "cell_type": "code",
   "execution_count": null,
   "metadata": {
    "collapsed": true
   },
   "outputs": [],
   "source": []
  }
 ],
 "metadata": {
  "kernelspec": {
   "display_name": "Python 2",
   "language": "python",
   "name": "python2"
  },
  "language_info": {
   "codemirror_mode": {
    "name": "ipython",
    "version": 2
   },
   "file_extension": ".py",
   "mimetype": "text/x-python",
   "name": "python",
   "nbconvert_exporter": "python",
   "pygments_lexer": "ipython2",
   "version": "2.7.12"
  }
 },
 "nbformat": 4,
 "nbformat_minor": 2
}
