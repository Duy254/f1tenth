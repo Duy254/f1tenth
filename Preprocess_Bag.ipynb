{
 "cells": [
  {
   "cell_type": "code",
   "execution_count": 2,
   "metadata": {
    "collapsed": true
   },
   "outputs": [],
   "source": [
    "import roslib\n",
    "import rosbag\n",
    "import rospy\n",
    "import cv2\n",
    "import os\n",
    "import numpy as np\n",
    "from sensor_msgs.msg import Image\n",
    "from cv_bridge import CvBridge, CvBridgeError\n",
    "from glob import glob\n",
    "from tqdm import tqdm"
   ]
  },
  {
   "cell_type": "code",
   "execution_count": 3,
   "metadata": {
    "collapsed": false
   },
   "outputs": [
    {
     "name": "stderr",
     "output_type": "stream",
     "text": [
      "0it [00:00, ?it/s]/usr/local/lib/python2.7/dist-packages/ipykernel/__main__.py:15: DeprecationWarning: The binary mode of fromstring is deprecated, as it behaves surprisingly on unicode inputs. Use frombuffer instead\n",
      "3018it [00:17, 172.61it/s]\n",
      "19it [00:00, 179.75it/s]"
     ]
    },
    {
     "name": "stdout",
     "output_type": "stream",
     "text": [
      "('Last i: ', 2598)\n"
     ]
    },
    {
     "name": "stderr",
     "output_type": "stream",
     "text": [
      "4132it [00:23, 172.73it/s]\n",
      "22it [00:00, 210.41it/s]"
     ]
    },
    {
     "name": "stdout",
     "output_type": "stream",
     "text": [
      "('Last i: ', 6158)\n"
     ]
    },
    {
     "name": "stderr",
     "output_type": "stream",
     "text": [
      "3903it [00:22, 170.66it/s]\n",
      "0it [00:00, ?it/s]"
     ]
    },
    {
     "name": "stdout",
     "output_type": "stream",
     "text": [
      "('Last i: ', 9519)\n"
     ]
    },
    {
     "name": "stderr",
     "output_type": "stream",
     "text": [
      "7701it [00:45, 170.93it/s]\n",
      "0it [00:00, ?it/s]"
     ]
    },
    {
     "name": "stdout",
     "output_type": "stream",
     "text": [
      "('Last i: ', 16151)\n"
     ]
    },
    {
     "name": "stderr",
     "output_type": "stream",
     "text": [
      "7619it [00:46, 164.00it/s]\n",
      "20it [00:00, 197.68it/s]"
     ]
    },
    {
     "name": "stdout",
     "output_type": "stream",
     "text": [
      "('Last i: ', 22710)\n"
     ]
    },
    {
     "name": "stderr",
     "output_type": "stream",
     "text": [
      "2444it [00:13, 175.75it/s]"
     ]
    },
    {
     "name": "stdout",
     "output_type": "stream",
     "text": [
      "('Last i: ', 24810)\n"
     ]
    },
    {
     "name": "stderr",
     "output_type": "stream",
     "text": [
      "\n"
     ]
    }
   ],
   "source": [
    "i=0\n",
    "\n",
    "try:\n",
    "    os.mkdir(\"bags/all\")\n",
    "except:\n",
    "    print(\"Ommiting\",bag)\n",
    "for bag in glob(\"bags/*.bag\"):\n",
    "    bag_name = bag.split('/')[1].split(\".\")[0]\n",
    "    yaw=0\n",
    "    throttle=0\n",
    "    with rosbag.Bag(bag, 'r') as inbag:\n",
    "        for topic, msg, t in tqdm(inbag.read_messages()):\n",
    "            if topic == '/camera/image/compressed':\n",
    "                np_arr = np.fromstring(msg.data, np.uint8)\n",
    "                cv_image = cv2.imdecode(np_arr, cv2.IMREAD_COLOR)\n",
    "\n",
    "                if  yaw!=0 and throttle!=0:\n",
    "                    i+=1\n",
    "                    cv2.imwrite(\"bags/all/image\" + str(i).zfill(8) + '_' + str(yaw) + '_' + str(throttle) + '.jpg',cv_image)\n",
    "#                         if (i%100==0):\n",
    "#                             print (i)\n",
    "            if topic == '/mavros/rc/in':\n",
    "                yaw=msg.channels[0]\n",
    "                throttle=msg.channels[2]\n",
    "    print ('Last i: ', i)\n"
   ]
  },
  {
   "cell_type": "code",
   "execution_count": null,
   "metadata": {
    "collapsed": true
   },
   "outputs": [],
   "source": []
  }
 ],
 "metadata": {
  "kernelspec": {
   "display_name": "Python 2",
   "language": "python",
   "name": "python2"
  },
  "language_info": {
   "codemirror_mode": {
    "name": "ipython",
    "version": 2
   },
   "file_extension": ".py",
   "mimetype": "text/x-python",
   "name": "python",
   "nbconvert_exporter": "python",
   "pygments_lexer": "ipython2",
   "version": "2.7.12"
  }
 },
 "nbformat": 4,
 "nbformat_minor": 2
}
