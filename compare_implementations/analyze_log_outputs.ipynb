{
 "cells": [
  {
   "cell_type": "code",
   "execution_count": null,
   "metadata": {},
   "outputs": [],
   "source": [
    "from IPython.core.display import display, HTML\n",
    "display(HTML(\"<style>.container { width:100% !important; }</style>\"))"
   ]
  },
  {
   "cell_type": "code",
   "execution_count": null,
   "metadata": {
    "collapsed": true
   },
   "outputs": [],
   "source": [
    "import pandas as pd\n",
    "\n",
    "import matplotlib.pyplot as plt\n",
    "import matplotlib as mpl\n",
    "mpl.style.use('seaborn-dark-palette')\n",
    "mpl.style.use('seaborn-whitegrid')"
   ]
  },
  {
   "cell_type": "code",
   "execution_count": null,
   "metadata": {
    "collapsed": true
   },
   "outputs": [],
   "source": [
    "kwargs = dict(sep=\" \", header=None)\n",
    "DF_python = pd.read_csv('python_output', **kwargs)\n",
    "DF_cpp = pd.read_csv('cpp_output', **kwargs)"
   ]
  },
  {
   "cell_type": "code",
   "execution_count": null,
   "metadata": {
    "collapsed": true
   },
   "outputs": [],
   "source": [
    "out = pd.DataFrame()\n",
    "out['dupa'] = DF_python.loc[:, 1].apply(lambda x: float(x[1:-2]))"
   ]
  },
  {
   "cell_type": "markdown",
   "metadata": {},
   "source": [
    "Because `ROS_INFO` produces additional white spaces, we need to extract the right columns:"
   ]
  },
  {
   "cell_type": "code",
   "execution_count": null,
   "metadata": {
    "collapsed": true
   },
   "outputs": [],
   "source": [
    "def _extract_yaw_and_throttle_colnumbers(DF_data):\n",
    "    one_row = DF_data.iloc[0]\n",
    "    yaw_colnumber = one_row.index[one_row == 'yaw:']\n",
    "    assert len(yaw_colnumber) == 1\n",
    "    yaw_colnumber = yaw_colnumber[0]\n",
    "    throttle_colnumber = one_row.index[one_row == 'throttle:']\n",
    "    assert len(throttle_colnumber) == 1\n",
    "    throttle_colnumber = throttle_colnumber[0]\n",
    "    # \"+1\" because we want the columns following 'yaw:' and 'throttle:'\n",
    "    return DF_data.loc[:, [yaw_colnumber+1, throttle_colnumber+1]]\n",
    "\n",
    "\n",
    "def _extract_timestamp(DF_data):\n",
    "    one_row = DF_data.iloc[0]\n",
    "    # I was getting NaN values -- hence the dropna\n",
    "    # Also, I needed to cast everything to bool, because the NaNs imposed \"object\" type columns\n",
    "    match_timestamp_regex = one_row.str.contains('^\\[\\w+.\\w+\\]:$').dropna().astype(bool)\n",
    "    timestamp_colnumber = match_timestamp_regex.index[match_timestamp_regex]\n",
    "    assert len(timestamp_colnumber) == 1\n",
    "    timestamp_colnumber = timestamp_colnumber[0]\n",
    "    return DF_data.loc[:, timestamp_colnumber].apply(lambda x: float(x[1:-2]))\n",
    "\n",
    "\n",
    "def prepare_data(DF_data, suffix):\n",
    "    DF_out = pd.DataFrame()\n",
    "    DF_out[['yaw_'+suffix, 'throttle_'+suffix]] = _extract_yaw_and_throttle_colnumbers(DF_data)\n",
    "    DF_out['timestamp'] = _extract_timestamp(DF_data)\n",
    "    return DF_out"
   ]
  },
  {
   "cell_type": "code",
   "execution_count": null,
   "metadata": {
    "collapsed": true
   },
   "outputs": [],
   "source": [
    "DF_python = prepare_data(DF_python, suffix='python')\n",
    "DF_cpp = prepare_data(DF_cpp, suffix='cpp')"
   ]
  },
  {
   "cell_type": "code",
   "execution_count": null,
   "metadata": {},
   "outputs": [],
   "source": [
    "slc = slice(400, 1000)\n",
    "\n",
    "ax = DF_python.iloc[slc].plot(x='timestamp', y='yaw_python')\n",
    "ax = DF_cpp.iloc[slc].plot(x='timestamp', y='yaw_cpp', ax=ax)\n",
    "plt.show()"
   ]
  },
  {
   "cell_type": "code",
   "execution_count": null,
   "metadata": {},
   "outputs": [],
   "source": []
  },
  {
   "cell_type": "code",
   "execution_count": null,
   "metadata": {
    "collapsed": true
   },
   "outputs": [],
   "source": []
  }
 ],
 "metadata": {
  "kernelspec": {
   "display_name": "Python 2",
   "language": "python",
   "name": "python2"
  },
  "language_info": {
   "codemirror_mode": {
    "name": "ipython",
    "version": 2
   },
   "file_extension": ".py",
   "mimetype": "text/x-python",
   "name": "python",
   "nbconvert_exporter": "python",
   "pygments_lexer": "ipython2",
   "version": "2.7.12"
  }
 },
 "nbformat": 4,
 "nbformat_minor": 2
}
